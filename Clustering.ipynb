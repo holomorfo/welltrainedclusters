{
 "cells": [
  {
   "cell_type": "code",
   "execution_count": 59,
   "metadata": {},
   "outputs": [
    {
     "name": "stdout",
     "output_type": "stream",
     "text": [
      "The autoreload extension is already loaded. To reload it, use:\n",
      "  %reload_ext autoreload\n"
     ]
    }
   ],
   "source": [
    "%load_ext autoreload\n",
    "%autoreload 2\n",
    "import simplemir.fileutils as fu\n",
    "import simplemir.music21utils as mu\n",
    "\n",
    "from sklearn.cluster import KMeans\n",
    "import numpy as np\n",
    "\n",
    "import json\n",
    "import pprint\n",
    "import copy\n",
    "import time\n"
   ]
  },
  {
   "cell_type": "markdown",
   "metadata": {},
   "source": [
    "# Load json analysis and score files"
   ]
  },
  {
   "cell_type": "code",
   "execution_count": 62,
   "metadata": {},
   "outputs": [
    {
     "name": "stdout",
     "output_type": "stream",
     "text": [
      "Starting\n",
      "Time: 30 sec\n"
     ]
    }
   ],
   "source": [
    "# Load all Json analysis objects into a single list\n",
    "start  = time.time()\n",
    "print('Starting')\n",
    "\n",
    "path_dirs_list = ['wtca','wtcb','wtcd','wtce','wtcf']\n",
    "data =[]\n",
    "for p in path_dirs_list: \n",
    "    with open(p+'.json', 'r') as f:\n",
    "        datastore = json.load(f)\n",
    "        json_string = json.dumps(datastore)\n",
    "        datastore = json.loads(json_string)\n",
    "        data = data + copy.deepcopy( datastore)\n",
    "\n",
    "# Create list of descriptors arrays\n",
    "descrips = [d['descriptors']['master'] for d in data]\n",
    "\n",
    "\n",
    "# Get files from all directories in one list\n",
    "superPathList =[]\n",
    "for p in path_dirs_list: \n",
    "    superPathList += fu.get_list_files(p, extension=\"xml\")\n",
    "\n",
    "# Get scores from path list\n",
    "scoresListJSON = mu.get_scores_from_paths_json(superPathList)\n",
    "\n",
    "# Get measures json list\n",
    "allMeasures = mu.getMeasuresListJson(scoresListJSON)\n",
    "\n",
    "print('Time:',int(time.time()-start),'sec') # Around 23 secs\n"
   ]
  },
  {
   "cell_type": "code",
   "execution_count": 89,
   "metadata": {
    "scrolled": true
   },
   "outputs": [
    {
     "name": "stdout",
     "output_type": "stream",
     "text": [
      "Starting\n",
      "Time: 3 sec\n"
     ]
    }
   ],
   "source": [
    "start  = time.time()\n",
    "print('Starting')\n",
    "\n",
    "# Begin clustering\n",
    "X = np.array(descrips)\n",
    "numClasses=20\n",
    "kmeans = KMeans(n_clusters=numClasses, random_state=0).fit(X)\n",
    "clusters =[]\n",
    "for i,k in enumerate(kmeans.labels_):\n",
    "    clusters.append({\n",
    "        'index':i,\n",
    "        'class':k\n",
    "    })\n",
    "clust =[]\n",
    "for i in range(numClasses):\n",
    "    clust.append(list(filter(lambda c: c['class'] == i, clusters)))\n",
    "\n",
    "clustScores = []\n",
    "for c in clust:\n",
    "    clustScores.append( [data[int(e['index'])] for i,e in enumerate(c)])\n",
    "\n",
    "# Verify that descriptors are correct\n",
    "# masters = [ c['descriptors']['master'] for c in clustScores[15]]\n",
    "# kmeans.predict(masters)\n",
    "\n",
    "print('Time:',int(time.time()-start),'sec') # Around 3 sec\n"
   ]
  },
  {
   "cell_type": "markdown",
   "metadata": {},
   "source": [
    "# Generate scores compositions\n",
    "\n",
    "Here we will generate the score\n",
    "\n",
    "- For each cluster we will hear random concatenations\n",
    "- Filter each cluster by instrument (range)\n",
    "- Generate parts\n",
    "- Generate whole score"
   ]
  },
  {
   "cell_type": "code",
   "execution_count": null,
   "metadata": {},
   "outputs": [],
   "source": []
  }
 ],
 "metadata": {
  "kernelspec": {
   "display_name": "Python 3",
   "language": "python",
   "name": "python3"
  },
  "language_info": {
   "codemirror_mode": {
    "name": "ipython",
    "version": 3
   },
   "file_extension": ".py",
   "mimetype": "text/x-python",
   "name": "python",
   "nbconvert_exporter": "python",
   "pygments_lexer": "ipython3",
   "version": "3.6.8"
  }
 },
 "nbformat": 4,
 "nbformat_minor": 2
}
