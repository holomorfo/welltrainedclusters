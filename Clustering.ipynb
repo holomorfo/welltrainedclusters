{
 "cells": [
  {
   "cell_type": "code",
   "execution_count": 7,
   "metadata": {},
   "outputs": [],
   "source": [
    "import json\n",
    "import pprint\n",
    "import copy"
   ]
  },
  {
   "cell_type": "code",
   "execution_count": 17,
   "metadata": {},
   "outputs": [
    {
     "name": "stdout",
     "output_type": "stream",
     "text": [
      "wtca 3114\n",
      "wtcb 1934\n",
      "wtcd 2736\n",
      "wtce 4131\n",
      "wtcf 7363\n",
      "Total 19278\n"
     ]
    }
   ],
   "source": [
    "path = ['wtca','wtcb','wtcd','wtce','wtcf']\n",
    "data =[]\n",
    "for p in path: \n",
    "    with open(p+'.json', 'r') as f:\n",
    "        datastore = json.load(f)\n",
    "        json_string = json.dumps(datastore)\n",
    "        datastore = json.loads(json_string)\n",
    "        print(p,len(datastore))\n",
    "        data = data + copy.deepcopy( datastore)\n",
    "print('Total',len(data))\n"
   ]
  },
  {
   "cell_type": "code",
   "execution_count": 22,
   "metadata": {
    "scrolled": true
   },
   "outputs": [],
   "source": [
    "# pprint.pprint(data[0])\n",
    "descrips = [d['descriptors']['master'] for d in data]\n",
    "# print(descrips)"
   ]
  },
  {
   "cell_type": "code",
   "execution_count": 40,
   "metadata": {},
   "outputs": [
    {
     "name": "stdout",
     "output_type": "stream",
     "text": [
      "[17 16 17 ...  1  7  4]\n"
     ]
    }
   ],
   "source": [
    "from sklearn.cluster import KMeans\n",
    "import numpy as np\n",
    "X = np.array(descrips)\n",
    "numClasses=20\n",
    "kmeans = KMeans(n_clusters=numClasses, random_state=0).fit(X)\n",
    "print(kmeans.labels_)\n",
    "clusters =[]\n",
    "for i,k in enumerate(kmeans.labels_):\n",
    "    clusters.append({\n",
    "        'index':i,\n",
    "        'class':k\n",
    "    })\n",
    "\n",
    "# print(clusters)\n"
   ]
  },
  {
   "cell_type": "code",
   "execution_count": 41,
   "metadata": {},
   "outputs": [],
   "source": [
    "clust =[]\n",
    "for i in range(numClasses):\n",
    "    clust.append(list(filter(lambda c: c['class'] == i, clusters)))\n"
   ]
  },
  {
   "cell_type": "code",
   "execution_count": 42,
   "metadata": {},
   "outputs": [
    {
     "name": "stdout",
     "output_type": "stream",
     "text": [
      "727\n",
      "996\n",
      "1104\n",
      "471\n",
      "1781\n",
      "881\n",
      "1084\n",
      "702\n",
      "447\n",
      "701\n",
      "1043\n",
      "1216\n",
      "932\n",
      "721\n",
      "876\n",
      "2016\n",
      "1729\n",
      "426\n",
      "480\n",
      "945\n"
     ]
    }
   ],
   "source": [
    "for c in clust:\n",
    "    print(len(c))"
   ]
  }
 ],
 "metadata": {
  "kernelspec": {
   "display_name": "Python 3",
   "language": "python",
   "name": "python3"
  },
  "language_info": {
   "codemirror_mode": {
    "name": "ipython",
    "version": 3
   },
   "file_extension": ".py",
   "mimetype": "text/x-python",
   "name": "python",
   "nbconvert_exporter": "python",
   "pygments_lexer": "ipython3",
   "version": "3.6.8"
  }
 },
 "nbformat": 4,
 "nbformat_minor": 2
}
